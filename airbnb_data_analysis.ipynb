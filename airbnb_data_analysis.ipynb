{
 "cells": [
  {
   "attachments": {},
   "cell_type": "markdown",
   "metadata": {},
   "source": [
    "# Introduction"
   ]
  },
  {
   "attachments": {},
   "cell_type": "markdown",
   "metadata": {},
   "source": [
    "# Airbnb Data Analysis\n",
    "\n",
    "In this notebook, we will explore Airbnb data to uncover insights into shared accommodations. We will tackle the following key business questions:\n",
    "\n",
    "1. **What are the peak seasons for bookings, and how do prices fluctuate throughout the year?**\n",
    "2. **What are the key factors that influence the ratings of a listing?**\n",
    "3. **How do review trends vary across different property types and locations?**\n",
    "\n",
    "Let's begin by importing the necessary libraries and loading the data.\n"
   ]
  },
  {
   "cell_type": "code",
   "execution_count": 1,
   "metadata": {},
   "outputs": [],
   "source": [
    "import pandas as pd\n",
    "import numpy as np\n",
    "import matplotlib.pyplot as plt\n",
    "import seaborn as sns\n",
    "import os\n",
    "\n",
    "import warnings\n",
    "warnings.filterwarnings('ignore')\n",
    "\n",
    "# Path to extracted data\n",
    "extract_path = 'data'\n",
    "\n",
    "# Loading listings.csv, calendar.csv, reviews.csv files\n",
    "listings_df = pd.read_csv(os.path.join(extract_path, 'listings.csv'))\n",
    "calendar_df = pd.read_csv(os.path.join(extract_path, 'calendar.csv'))\n",
    "reviews_df = pd.read_csv(os.path.join(extract_path, 'reviews.csv'))"
   ]
  },
  {
   "cell_type": "markdown",
   "metadata": {},
   "source": [
    "### Data Understanding"
   ]
  },
  {
   "cell_type": "markdown",
   "metadata": {},
   "source": [
    "#### Snippet of Data"
   ]
  },
  {
   "cell_type": "code",
   "execution_count": 2,
   "metadata": {},
   "outputs": [
    {
     "data": {
      "text/plain": [
       "(        id                           listing_url       scrape_id last_scraped  \\\n",
       " 0   241032   https://www.airbnb.com/rooms/241032  20160104002432   2016-01-04   \n",
       " 1   953595   https://www.airbnb.com/rooms/953595  20160104002432   2016-01-04   \n",
       " 2  3308979  https://www.airbnb.com/rooms/3308979  20160104002432   2016-01-04   \n",
       " 3  7421966  https://www.airbnb.com/rooms/7421966  20160104002432   2016-01-04   \n",
       " 4   278830   https://www.airbnb.com/rooms/278830  20160104002432   2016-01-04   \n",
       " \n",
       "                                   name  \\\n",
       " 0         Stylish Queen Anne Apartment   \n",
       " 1   Bright & Airy Queen Anne Apartment   \n",
       " 2  New Modern House-Amazing water view   \n",
       " 3                   Queen Anne Chateau   \n",
       " 4       Charming craftsman 3 bdm house   \n",
       " \n",
       "                                              summary  \\\n",
       " 0                                                NaN   \n",
       " 1  Chemically sensitive? We've removed the irrita...   \n",
       " 2  New modern house built in 2013.  Spectacular s...   \n",
       " 3  A charming apartment that sits atop Queen Anne...   \n",
       " 4  Cozy family craftman house in beautiful neighb...   \n",
       " \n",
       "                                                space  \\\n",
       " 0  Make your self at home in this charming one-be...   \n",
       " 1  Beautiful, hypoallergenic apartment in an extr...   \n",
       " 2  Our house is modern, light and fresh with a wa...   \n",
       " 3                                                NaN   \n",
       " 4  Cozy family craftman house in beautiful neighb...   \n",
       " \n",
       "                                          description experiences_offered  \\\n",
       " 0  Make your self at home in this charming one-be...                none   \n",
       " 1  Chemically sensitive? We've removed the irrita...                none   \n",
       " 2  New modern house built in 2013.  Spectacular s...                none   \n",
       " 3  A charming apartment that sits atop Queen Anne...                none   \n",
       " 4  Cozy family craftman house in beautiful neighb...                none   \n",
       " \n",
       "                                neighborhood_overview  ... review_scores_value  \\\n",
       " 0                                                NaN  ...                10.0   \n",
       " 1  Queen Anne is a wonderful, truly functional vi...  ...                10.0   \n",
       " 2  Upper Queen Anne is a charming neighborhood fu...  ...                10.0   \n",
       " 3                                                NaN  ...                 NaN   \n",
       " 4  We are in the beautiful neighborhood of Queen ...  ...                 9.0   \n",
       " \n",
       "   requires_license license jurisdiction_names instant_bookable  \\\n",
       " 0                f     NaN         WASHINGTON                f   \n",
       " 1                f     NaN         WASHINGTON                f   \n",
       " 2                f     NaN         WASHINGTON                f   \n",
       " 3                f     NaN         WASHINGTON                f   \n",
       " 4                f     NaN         WASHINGTON                f   \n",
       " \n",
       "   cancellation_policy  require_guest_profile_picture  \\\n",
       " 0            moderate                              f   \n",
       " 1              strict                              t   \n",
       " 2              strict                              f   \n",
       " 3            flexible                              f   \n",
       " 4              strict                              f   \n",
       " \n",
       "   require_guest_phone_verification calculated_host_listings_count  \\\n",
       " 0                                f                              2   \n",
       " 1                                t                              6   \n",
       " 2                                f                              2   \n",
       " 3                                f                              1   \n",
       " 4                                f                              1   \n",
       " \n",
       "   reviews_per_month  \n",
       " 0              4.07  \n",
       " 1              1.48  \n",
       " 2              1.15  \n",
       " 3               NaN  \n",
       " 4              0.89  \n",
       " \n",
       " [5 rows x 92 columns],\n",
       "    listing_id        date available   price\n",
       " 0      241032  2016-01-04         t  $85.00\n",
       " 1      241032  2016-01-05         t  $85.00\n",
       " 2      241032  2016-01-06         f     NaN\n",
       " 3      241032  2016-01-07         f     NaN\n",
       " 4      241032  2016-01-08         f     NaN,\n",
       "    listing_id        id        date  reviewer_id reviewer_name  \\\n",
       " 0     7202016  38917982  2015-07-19     28943674        Bianca   \n",
       " 1     7202016  39087409  2015-07-20     32440555         Frank   \n",
       " 2     7202016  39820030  2015-07-26     37722850           Ian   \n",
       " 3     7202016  40813543  2015-08-02     33671805        George   \n",
       " 4     7202016  41986501  2015-08-10     34959538          Ming   \n",
       " \n",
       "                                             comments  \n",
       " 0  Cute and cozy place. Perfect location to every...  \n",
       " 1  Kelly has a great room in a very central locat...  \n",
       " 2  Very spacious apartment, and in a great neighb...  \n",
       " 3  Close to Seattle Center and all it has to offe...  \n",
       " 4  Kelly was a great host and very accommodating ...  )"
      ]
     },
     "execution_count": 2,
     "metadata": {},
     "output_type": "execute_result"
    }
   ],
   "source": [
    "# Displaying the first few rows of each DataFrame\n",
    "listings_df.head(), calendar_df.head(), reviews_df.head()"
   ]
  },
  {
   "cell_type": "markdown",
   "metadata": {},
   "source": [
    "#### Identify Metadata"
   ]
  },
  {
   "cell_type": "code",
   "execution_count": 3,
   "metadata": {},
   "outputs": [
    {
     "name": "stdout",
     "output_type": "stream",
     "text": [
      "<class 'pandas.core.frame.DataFrame'>\n",
      "RangeIndex: 3818 entries, 0 to 3817\n",
      "Data columns (total 92 columns):\n",
      " #   Column                            Non-Null Count  Dtype  \n",
      "---  ------                            --------------  -----  \n",
      " 0   id                                3818 non-null   int64  \n",
      " 1   listing_url                       3818 non-null   object \n",
      " 2   scrape_id                         3818 non-null   int64  \n",
      " 3   last_scraped                      3818 non-null   object \n",
      " 4   name                              3818 non-null   object \n",
      " 5   summary                           3641 non-null   object \n",
      " 6   space                             3249 non-null   object \n",
      " 7   description                       3818 non-null   object \n",
      " 8   experiences_offered               3818 non-null   object \n",
      " 9   neighborhood_overview             2786 non-null   object \n",
      " 10  notes                             2212 non-null   object \n",
      " 11  transit                           2884 non-null   object \n",
      " 12  thumbnail_url                     3498 non-null   object \n",
      " 13  medium_url                        3498 non-null   object \n",
      " 14  picture_url                       3818 non-null   object \n",
      " 15  xl_picture_url                    3498 non-null   object \n",
      " 16  host_id                           3818 non-null   int64  \n",
      " 17  host_url                          3818 non-null   object \n",
      " 18  host_name                         3816 non-null   object \n",
      " 19  host_since                        3816 non-null   object \n",
      " 20  host_location                     3810 non-null   object \n",
      " 21  host_about                        2959 non-null   object \n",
      " 22  host_response_time                3295 non-null   object \n",
      " 23  host_response_rate                3295 non-null   object \n",
      " 24  host_acceptance_rate              3045 non-null   object \n",
      " 25  host_is_superhost                 3816 non-null   object \n",
      " 26  host_thumbnail_url                3816 non-null   object \n",
      " 27  host_picture_url                  3816 non-null   object \n",
      " 28  host_neighbourhood                3518 non-null   object \n",
      " 29  host_listings_count               3816 non-null   float64\n",
      " 30  host_total_listings_count         3816 non-null   float64\n",
      " 31  host_verifications                3818 non-null   object \n",
      " 32  host_has_profile_pic              3816 non-null   object \n",
      " 33  host_identity_verified            3816 non-null   object \n",
      " 34  street                            3818 non-null   object \n",
      " 35  neighbourhood                     3402 non-null   object \n",
      " 36  neighbourhood_cleansed            3818 non-null   object \n",
      " 37  neighbourhood_group_cleansed      3818 non-null   object \n",
      " 38  city                              3818 non-null   object \n",
      " 39  state                             3818 non-null   object \n",
      " 40  zipcode                           3811 non-null   object \n",
      " 41  market                            3818 non-null   object \n",
      " 42  smart_location                    3818 non-null   object \n",
      " 43  country_code                      3818 non-null   object \n",
      " 44  country                           3818 non-null   object \n",
      " 45  latitude                          3818 non-null   float64\n",
      " 46  longitude                         3818 non-null   float64\n",
      " 47  is_location_exact                 3818 non-null   object \n",
      " 48  property_type                     3817 non-null   object \n",
      " 49  room_type                         3818 non-null   object \n",
      " 50  accommodates                      3818 non-null   int64  \n",
      " 51  bathrooms                         3802 non-null   float64\n",
      " 52  bedrooms                          3812 non-null   float64\n",
      " 53  beds                              3817 non-null   float64\n",
      " 54  bed_type                          3818 non-null   object \n",
      " 55  amenities                         3818 non-null   object \n",
      " 56  square_feet                       97 non-null     float64\n",
      " 57  price                             3818 non-null   object \n",
      " 58  weekly_price                      2009 non-null   object \n",
      " 59  monthly_price                     1517 non-null   object \n",
      " 60  security_deposit                  1866 non-null   object \n",
      " 61  cleaning_fee                      2788 non-null   object \n",
      " 62  guests_included                   3818 non-null   int64  \n",
      " 63  extra_people                      3818 non-null   object \n",
      " 64  minimum_nights                    3818 non-null   int64  \n",
      " 65  maximum_nights                    3818 non-null   int64  \n",
      " 66  calendar_updated                  3818 non-null   object \n",
      " 67  has_availability                  3818 non-null   object \n",
      " 68  availability_30                   3818 non-null   int64  \n",
      " 69  availability_60                   3818 non-null   int64  \n",
      " 70  availability_90                   3818 non-null   int64  \n",
      " 71  availability_365                  3818 non-null   int64  \n",
      " 72  calendar_last_scraped             3818 non-null   object \n",
      " 73  number_of_reviews                 3818 non-null   int64  \n",
      " 74  first_review                      3191 non-null   object \n",
      " 75  last_review                       3191 non-null   object \n",
      " 76  review_scores_rating              3171 non-null   float64\n",
      " 77  review_scores_accuracy            3160 non-null   float64\n",
      " 78  review_scores_cleanliness         3165 non-null   float64\n",
      " 79  review_scores_checkin             3160 non-null   float64\n",
      " 80  review_scores_communication       3167 non-null   float64\n",
      " 81  review_scores_location            3163 non-null   float64\n",
      " 82  review_scores_value               3162 non-null   float64\n",
      " 83  requires_license                  3818 non-null   object \n",
      " 84  license                           0 non-null      float64\n",
      " 85  jurisdiction_names                3818 non-null   object \n",
      " 86  instant_bookable                  3818 non-null   object \n",
      " 87  cancellation_policy               3818 non-null   object \n",
      " 88  require_guest_profile_picture     3818 non-null   object \n",
      " 89  require_guest_phone_verification  3818 non-null   object \n",
      " 90  calculated_host_listings_count    3818 non-null   int64  \n",
      " 91  reviews_per_month                 3191 non-null   float64\n",
      "dtypes: float64(17), int64(13), object(62)\n",
      "memory usage: 2.7+ MB\n"
     ]
    }
   ],
   "source": [
    "# Displaying the metadata\n",
    "listings_df.info()"
   ]
  },
  {
   "cell_type": "code",
   "execution_count": 4,
   "metadata": {},
   "outputs": [
    {
     "name": "stdout",
     "output_type": "stream",
     "text": [
      "<class 'pandas.core.frame.DataFrame'>\n",
      "RangeIndex: 1393570 entries, 0 to 1393569\n",
      "Data columns (total 4 columns):\n",
      " #   Column      Non-Null Count    Dtype \n",
      "---  ------      --------------    ----- \n",
      " 0   listing_id  1393570 non-null  int64 \n",
      " 1   date        1393570 non-null  object\n",
      " 2   available   1393570 non-null  object\n",
      " 3   price       934542 non-null   object\n",
      "dtypes: int64(1), object(3)\n",
      "memory usage: 42.5+ MB\n"
     ]
    }
   ],
   "source": [
    "# Displaying the metadata\n",
    "calendar_df.info()"
   ]
  },
  {
   "cell_type": "code",
   "execution_count": 5,
   "metadata": {},
   "outputs": [
    {
     "name": "stdout",
     "output_type": "stream",
     "text": [
      "<class 'pandas.core.frame.DataFrame'>\n",
      "RangeIndex: 84849 entries, 0 to 84848\n",
      "Data columns (total 6 columns):\n",
      " #   Column         Non-Null Count  Dtype \n",
      "---  ------         --------------  ----- \n",
      " 0   listing_id     84849 non-null  int64 \n",
      " 1   id             84849 non-null  int64 \n",
      " 2   date           84849 non-null  object\n",
      " 3   reviewer_id    84849 non-null  int64 \n",
      " 4   reviewer_name  84849 non-null  object\n",
      " 5   comments       84831 non-null  object\n",
      "dtypes: int64(3), object(3)\n",
      "memory usage: 3.9+ MB\n"
     ]
    }
   ],
   "source": [
    "# Displaying the metadata\n",
    "reviews_df.info()"
   ]
  },
  {
   "cell_type": "markdown",
   "metadata": {},
   "source": [
    "#### Checking Missing Value"
   ]
  },
  {
   "cell_type": "code",
   "execution_count": 6,
   "metadata": {},
   "outputs": [],
   "source": [
    "def count_missing_values(calendar_df, listings_df, reviews_df):\n",
    "    \"\"\"\n",
    "    Counts the number of columns with missing values for each provided dataframe.\n",
    "    \n",
    "    Parameters:\n",
    "    - calendar_df (pd.DataFrame): The dataframe containing calendar data.\n",
    "    - listings_df (pd.DataFrame): The dataframe containing listings data.\n",
    "    - reviews_df (pd.DataFrame): The dataframe containing reviews data.\n",
    "    \n",
    "    Returns:\n",
    "    - tuple: A tuple containing the count of columns with missing values for:\n",
    "        1. calendar_df\n",
    "        2. listings_df\n",
    "        3. reviews_df\n",
    "    \"\"\"\n",
    "    \n",
    "    count_mv_calendar = calendar_df.isnull().sum()\n",
    "    count_col_mv_calendar = count_mv_calendar[count_mv_calendar>0].count()\n",
    "\n",
    "    count_mv_listing = listings_df.isnull().sum()\n",
    "    count_col_mv_listing = count_mv_listing[count_mv_listing>0].count()\n",
    "\n",
    "    count_mv_review = reviews_df.isnull().sum()\n",
    "    count_col_mv_review = count_mv_review[count_mv_review>0].count()\n",
    "\n",
    "    return (\n",
    "        count_col_mv_calendar,\n",
    "        count_col_mv_listing,\n",
    "        count_col_mv_review\n",
    "    )\n"
   ]
  },
  {
   "cell_type": "code",
   "execution_count": 7,
   "metadata": {},
   "outputs": [
    {
     "data": {
      "text/plain": [
       "(1, 45, 1)"
      ]
     },
     "execution_count": 7,
     "metadata": {},
     "output_type": "execute_result"
    }
   ],
   "source": [
    "## How many column are missing each dataset\n",
    "count_missing_values(calendar_df,listings_df,reviews_df)"
   ]
  },
  {
   "cell_type": "code",
   "execution_count": 8,
   "metadata": {},
   "outputs": [],
   "source": [
    "def show_missing_column(df):\n",
    "    \"\"\"\n",
    "    Identifies and returns columns with missing values from the provided dataframe.\n",
    "    \n",
    "    Parameters:\n",
    "    - df (pd.DataFrame): The input dataframe to check for missing values.\n",
    "    \n",
    "    Returns:\n",
    "    - pd.Series: A series containing counts of missing values for columns that have them.\n",
    "    \"\"\"\n",
    "    \n",
    "    missing_sum = df.isnull().sum()\n",
    "    list_col_missing = missing_sum[missing_sum > 0]\n",
    "    return list_col_missing\n",
    "    \n"
   ]
  },
  {
   "cell_type": "code",
   "execution_count": 9,
   "metadata": {},
   "outputs": [
    {
     "data": {
      "text/plain": [
       "price    459028\n",
       "dtype: int64"
      ]
     },
     "execution_count": 9,
     "metadata": {},
     "output_type": "execute_result"
    }
   ],
   "source": [
    "## Variable missing for calendar_df\n",
    "show_missing_column(calendar_df)"
   ]
  },
  {
   "cell_type": "code",
   "execution_count": 10,
   "metadata": {},
   "outputs": [
    {
     "data": {
      "text/plain": [
       "comments    18\n",
       "dtype: int64"
      ]
     },
     "execution_count": 10,
     "metadata": {},
     "output_type": "execute_result"
    }
   ],
   "source": [
    "## Variable missing for reviews_df\n",
    "show_missing_column(reviews_df)"
   ]
  },
  {
   "cell_type": "code",
   "execution_count": 11,
   "metadata": {},
   "outputs": [
    {
     "data": {
      "text/plain": [
       "summary                         177\n",
       "space                           569\n",
       "neighborhood_overview          1032\n",
       "notes                          1606\n",
       "transit                         934\n",
       "thumbnail_url                   320\n",
       "medium_url                      320\n",
       "xl_picture_url                  320\n",
       "host_name                         2\n",
       "host_since                        2\n",
       "host_location                     8\n",
       "host_about                      859\n",
       "host_response_time              523\n",
       "host_response_rate              523\n",
       "host_acceptance_rate            773\n",
       "host_is_superhost                 2\n",
       "host_thumbnail_url                2\n",
       "host_picture_url                  2\n",
       "host_neighbourhood              300\n",
       "host_listings_count               2\n",
       "host_total_listings_count         2\n",
       "host_has_profile_pic              2\n",
       "host_identity_verified            2\n",
       "neighbourhood                   416\n",
       "zipcode                           7\n",
       "property_type                     1\n",
       "bathrooms                        16\n",
       "bedrooms                          6\n",
       "beds                              1\n",
       "square_feet                    3721\n",
       "weekly_price                   1809\n",
       "monthly_price                  2301\n",
       "security_deposit               1952\n",
       "cleaning_fee                   1030\n",
       "first_review                    627\n",
       "last_review                     627\n",
       "review_scores_rating            647\n",
       "review_scores_accuracy          658\n",
       "review_scores_cleanliness       653\n",
       "review_scores_checkin           658\n",
       "review_scores_communication     651\n",
       "review_scores_location          655\n",
       "review_scores_value             656\n",
       "license                        3818\n",
       "reviews_per_month               627\n",
       "dtype: int64"
      ]
     },
     "execution_count": 11,
     "metadata": {},
     "output_type": "execute_result"
    }
   ],
   "source": [
    "## Variable missing for listings_df\n",
    "show_missing_column(listings_df)"
   ]
  },
  {
   "cell_type": "code",
   "execution_count": 12,
   "metadata": {},
   "outputs": [
    {
     "data": {
      "text/html": [
       "<div>\n",
       "<style scoped>\n",
       "    .dataframe tbody tr th:only-of-type {\n",
       "        vertical-align: middle;\n",
       "    }\n",
       "\n",
       "    .dataframe tbody tr th {\n",
       "        vertical-align: top;\n",
       "    }\n",
       "\n",
       "    .dataframe thead th {\n",
       "        text-align: right;\n",
       "    }\n",
       "</style>\n",
       "<table border=\"1\" class=\"dataframe\">\n",
       "  <thead>\n",
       "    <tr style=\"text-align: right;\">\n",
       "      <th></th>\n",
       "      <th>listing_id</th>\n",
       "      <th>date</th>\n",
       "      <th>available</th>\n",
       "      <th>price</th>\n",
       "    </tr>\n",
       "  </thead>\n",
       "  <tbody>\n",
       "    <tr>\n",
       "      <th>443326</th>\n",
       "      <td>6958436</td>\n",
       "      <td>2016-08-07</td>\n",
       "      <td>f</td>\n",
       "      <td>NaN</td>\n",
       "    </tr>\n",
       "    <tr>\n",
       "      <th>385624</th>\n",
       "      <td>2387605</td>\n",
       "      <td>2016-07-06</td>\n",
       "      <td>f</td>\n",
       "      <td>NaN</td>\n",
       "    </tr>\n",
       "    <tr>\n",
       "      <th>1384338</th>\n",
       "      <td>9288840</td>\n",
       "      <td>2016-09-18</td>\n",
       "      <td>f</td>\n",
       "      <td>NaN</td>\n",
       "    </tr>\n",
       "    <tr>\n",
       "      <th>1375020</th>\n",
       "      <td>8632651</td>\n",
       "      <td>2016-03-09</td>\n",
       "      <td>f</td>\n",
       "      <td>NaN</td>\n",
       "    </tr>\n",
       "    <tr>\n",
       "      <th>1027535</th>\n",
       "      <td>6769696</td>\n",
       "      <td>2016-03-04</td>\n",
       "      <td>f</td>\n",
       "      <td>NaN</td>\n",
       "    </tr>\n",
       "  </tbody>\n",
       "</table>\n",
       "</div>"
      ],
      "text/plain": [
       "         listing_id        date available price\n",
       "443326      6958436  2016-08-07         f   NaN\n",
       "385624      2387605  2016-07-06         f   NaN\n",
       "1384338     9288840  2016-09-18         f   NaN\n",
       "1375020     8632651  2016-03-09         f   NaN\n",
       "1027535     6769696  2016-03-04         f   NaN"
      ]
     },
     "execution_count": 12,
     "metadata": {},
     "output_type": "execute_result"
    }
   ],
   "source": [
    "## Checking by case calendar\n",
    "calendar_df[calendar_df['price'].isnull()].sample(5)"
   ]
  },
  {
   "cell_type": "code",
   "execution_count": 13,
   "metadata": {},
   "outputs": [
    {
     "data": {
      "text/html": [
       "<div>\n",
       "<style scoped>\n",
       "    .dataframe tbody tr th:only-of-type {\n",
       "        vertical-align: middle;\n",
       "    }\n",
       "\n",
       "    .dataframe tbody tr th {\n",
       "        vertical-align: top;\n",
       "    }\n",
       "\n",
       "    .dataframe thead th {\n",
       "        text-align: right;\n",
       "    }\n",
       "</style>\n",
       "<table border=\"1\" class=\"dataframe\">\n",
       "  <thead>\n",
       "    <tr style=\"text-align: right;\">\n",
       "      <th></th>\n",
       "      <th>listing_id</th>\n",
       "      <th>id</th>\n",
       "      <th>date</th>\n",
       "      <th>reviewer_id</th>\n",
       "      <th>reviewer_name</th>\n",
       "      <th>comments</th>\n",
       "    </tr>\n",
       "  </thead>\n",
       "  <tbody>\n",
       "    <tr>\n",
       "      <th>31414</th>\n",
       "      <td>3354614</td>\n",
       "      <td>18103248</td>\n",
       "      <td>2014-08-21</td>\n",
       "      <td>12426758</td>\n",
       "      <td>Jeff</td>\n",
       "      <td>NaN</td>\n",
       "    </tr>\n",
       "    <tr>\n",
       "      <th>40176</th>\n",
       "      <td>23430</td>\n",
       "      <td>8347394</td>\n",
       "      <td>2013-10-27</td>\n",
       "      <td>5034901</td>\n",
       "      <td>Jim</td>\n",
       "      <td>NaN</td>\n",
       "    </tr>\n",
       "    <tr>\n",
       "      <th>76589</th>\n",
       "      <td>84030</td>\n",
       "      <td>11782337</td>\n",
       "      <td>2014-04-14</td>\n",
       "      <td>5270791</td>\n",
       "      <td>Robert</td>\n",
       "      <td>NaN</td>\n",
       "    </tr>\n",
       "    <tr>\n",
       "      <th>35210</th>\n",
       "      <td>3554558</td>\n",
       "      <td>24863045</td>\n",
       "      <td>2015-01-03</td>\n",
       "      <td>24488791</td>\n",
       "      <td>Eleanor</td>\n",
       "      <td>NaN</td>\n",
       "    </tr>\n",
       "    <tr>\n",
       "      <th>61176</th>\n",
       "      <td>5682</td>\n",
       "      <td>64918</td>\n",
       "      <td>2010-07-15</td>\n",
       "      <td>145644</td>\n",
       "      <td>Keri</td>\n",
       "      <td>NaN</td>\n",
       "    </tr>\n",
       "  </tbody>\n",
       "</table>\n",
       "</div>"
      ],
      "text/plain": [
       "       listing_id        id        date  reviewer_id reviewer_name comments\n",
       "31414     3354614  18103248  2014-08-21     12426758          Jeff      NaN\n",
       "40176       23430   8347394  2013-10-27      5034901           Jim      NaN\n",
       "76589       84030  11782337  2014-04-14      5270791        Robert      NaN\n",
       "35210     3554558  24863045  2015-01-03     24488791       Eleanor      NaN\n",
       "61176        5682     64918  2010-07-15       145644          Keri      NaN"
      ]
     },
     "execution_count": 13,
     "metadata": {},
     "output_type": "execute_result"
    }
   ],
   "source": [
    "## Checking by case calendar\n",
    "reviews_df[reviews_df['comments'].isnull()].sample(5)"
   ]
  },
  {
   "cell_type": "markdown",
   "metadata": {},
   "source": [
    "### Handling Missing Value"
   ]
  },
  {
   "cell_type": "markdown",
   "metadata": {},
   "source": [
    "#### Calendar Dataset"
   ]
  },
  {
   "cell_type": "markdown",
   "metadata": {},
   "source": [
    "There is a lot of missing value for price column. That exists, because of the listing is not available.\n",
    "So the solution of this case is fill missing value with negative value."
   ]
  },
  {
   "cell_type": "code",
   "execution_count": 14,
   "metadata": {},
   "outputs": [],
   "source": [
    "def remove_missing_value_calendar(df):\n",
    "    \"\"\"\n",
    "    Removes rows with any missing values from the provided dataframe.\n",
    "    \n",
    "    Parameters:\n",
    "    - df (pd.DataFrame): The input dataframe from which to remove rows with missing values.\n",
    "    \n",
    "    Returns:\n",
    "    - pd.DataFrame: The dataframe after removing rows with any missing values.\n",
    "    \"\"\"\n",
    "    \n",
    "    df['price'] = df['price'].fillna(-1)\n",
    "    return df\n",
    "\n",
    "calendar_df = remove_missing_value_calendar(calendar_df)"
   ]
  },
  {
   "cell_type": "code",
   "execution_count": 15,
   "metadata": {},
   "outputs": [
    {
     "data": {
      "text/plain": [
       "Series([], dtype: int64)"
      ]
     },
     "execution_count": 15,
     "metadata": {},
     "output_type": "execute_result"
    }
   ],
   "source": [
    "## Variable missing for calendar_df\n",
    "show_missing_column(calendar_df)"
   ]
  },
  {
   "cell_type": "markdown",
   "metadata": {},
   "source": [
    "#### Listings Dataset"
   ]
  },
  {
   "cell_type": "markdown",
   "metadata": {},
   "source": [
    "There is 45 column that have missing data. So there are several treatment that will be applied here.\n",
    "For numerical column, we will fill with zero because it is the safest method that could be applied.\n",
    "For categorical column, we will fill with \"Unknown\"."
   ]
  },
  {
   "cell_type": "code",
   "execution_count": 16,
   "metadata": {},
   "outputs": [],
   "source": [
    "def fill_missing_values_listing(df):\n",
    "    \"\"\"\n",
    "    Fills missing values in the dataframe. For numerical columns, fills with 0. \n",
    "    For categorical columns, fills with 'Unknown'.\n",
    "    \n",
    "    Parameters:\n",
    "    - df (pd.DataFrame): The input dataframe with missing values.\n",
    "    \n",
    "    Returns:\n",
    "    - pd.DataFrame: The dataframe after filling missing values.\n",
    "    \"\"\"\n",
    "    missing_values_series = df.isnull().sum()\n",
    "    \n",
    "    columns_with_missing_values = missing_values_series[missing_values_series > 0]\n",
    "\n",
    "    # Categorizing columns based on their data type\n",
    "    numerical_columns = df[columns_with_missing_values.index].select_dtypes(include=['float64', 'int64']).columns\n",
    "    categorical_columns = df[columns_with_missing_values.index].select_dtypes(include=['object']).columns\n",
    "\n",
    "    df[numerical_columns] = df[numerical_columns].fillna(0)\n",
    "    df[categorical_columns] = df[categorical_columns].fillna('Unknown')\n",
    "    \n",
    "    return df\n"
   ]
  },
  {
   "cell_type": "code",
   "execution_count": 17,
   "metadata": {},
   "outputs": [],
   "source": [
    "listings_df = fill_missing_values_listing(listings_df)"
   ]
  },
  {
   "cell_type": "code",
   "execution_count": 18,
   "metadata": {},
   "outputs": [
    {
     "data": {
      "text/plain": [
       "Series([], dtype: int64)"
      ]
     },
     "execution_count": 18,
     "metadata": {},
     "output_type": "execute_result"
    }
   ],
   "source": [
    "## Variable missing for listings_df\n",
    "show_missing_column(listings_df)"
   ]
  },
  {
   "cell_type": "markdown",
   "metadata": {},
   "source": [
    "#### Reviews Dataset"
   ]
  },
  {
   "cell_type": "markdown",
   "metadata": {},
   "source": [
    "There is only 18 review that have missing value. In the next section we will replace this missing value with the empty string."
   ]
  },
  {
   "cell_type": "code",
   "execution_count": 19,
   "metadata": {},
   "outputs": [],
   "source": [
    "def fill_missing_value_reviews(df):\n",
    "    \"\"\"\n",
    "    Fills missing values in the 'comments' column of the provided dataframe with an empty string.\n",
    "    \n",
    "    Parameters:\n",
    "    - df (pd.DataFrame): The input dataframe with potential missing values in the 'comments' column.\n",
    "    \n",
    "    Returns:\n",
    "    - pd.Series: The 'comments' series after filling missing values with an empty string.\n",
    "    \"\"\"\n",
    "    \n",
    "    df['comments'] = df['comments'].fillna('')\n",
    "    return df\n",
    "\n",
    "\n",
    "reviews_df = fill_missing_value_reviews(reviews_df)    "
   ]
  },
  {
   "cell_type": "code",
   "execution_count": 20,
   "metadata": {},
   "outputs": [
    {
     "data": {
      "text/plain": [
       "Series([], dtype: int64)"
      ]
     },
     "execution_count": 20,
     "metadata": {},
     "output_type": "execute_result"
    }
   ],
   "source": [
    "## Variable missing for reviews_df\n",
    "show_missing_column(reviews_df)"
   ]
  },
  {
   "cell_type": "markdown",
   "metadata": {},
   "source": [
    "#### Checking Duplicate Rows"
   ]
  },
  {
   "cell_type": "code",
   "execution_count": 21,
   "metadata": {},
   "outputs": [],
   "source": [
    "def check_duplicate_rows(calendar_df, listings_df, reviews_df):\n",
    "    \"\"\"\n",
    "    Checks and returns the count of duplicate rows for each provided dataframe.\n",
    "    \n",
    "    Parameters:\n",
    "    - calendar_df (pd.DataFrame): The dataframe containing calendar data.\n",
    "    - listings_df (pd.DataFrame): The dataframe containing listings data.\n",
    "    - reviews_df (pd.DataFrame): The dataframe containing reviews data.\n",
    "    \n",
    "    Returns:\n",
    "    - tuple: A tuple containing the count of duplicate rows for:\n",
    "        1. calendar_df\n",
    "        2. listings_df\n",
    "        3. reviews_df\n",
    "    \"\"\"\n",
    "    \n",
    "    duplicate_rows_calendar = calendar_df.duplicated().sum()\n",
    "    duplicate_rows_listings = listings_df.duplicated().sum()\n",
    "    duplicate_rows_reviews = reviews_df.duplicated().sum()\n",
    "\n",
    "    return (\n",
    "        duplicate_rows_calendar,\n",
    "        duplicate_rows_listings,\n",
    "        duplicate_rows_reviews\n",
    "    )\n"
   ]
  },
  {
   "cell_type": "code",
   "execution_count": 22,
   "metadata": {},
   "outputs": [
    {
     "data": {
      "text/plain": [
       "(0, 0, 0)"
      ]
     },
     "execution_count": 22,
     "metadata": {},
     "output_type": "execute_result"
    }
   ],
   "source": [
    "check_duplicate_rows(calendar_df,listings_df,reviews_df)"
   ]
  },
  {
   "cell_type": "markdown",
   "metadata": {},
   "source": [
    "There is no duplicate row in all dataset"
   ]
  },
  {
   "cell_type": "markdown",
   "metadata": {},
   "source": [
    "### Data Processing"
   ]
  },
  {
   "cell_type": "code",
   "execution_count": 23,
   "metadata": {},
   "outputs": [
    {
     "data": {
      "text/html": [
       "<div>\n",
       "<style scoped>\n",
       "    .dataframe tbody tr th:only-of-type {\n",
       "        vertical-align: middle;\n",
       "    }\n",
       "\n",
       "    .dataframe tbody tr th {\n",
       "        vertical-align: top;\n",
       "    }\n",
       "\n",
       "    .dataframe thead th {\n",
       "        text-align: right;\n",
       "    }\n",
       "</style>\n",
       "<table border=\"1\" class=\"dataframe\">\n",
       "  <thead>\n",
       "    <tr style=\"text-align: right;\">\n",
       "      <th></th>\n",
       "      <th>listing_id</th>\n",
       "      <th>date</th>\n",
       "      <th>available</th>\n",
       "      <th>price</th>\n",
       "    </tr>\n",
       "  </thead>\n",
       "  <tbody>\n",
       "    <tr>\n",
       "      <th>0</th>\n",
       "      <td>241032</td>\n",
       "      <td>2016-01-04</td>\n",
       "      <td>True</td>\n",
       "      <td>85.0</td>\n",
       "    </tr>\n",
       "    <tr>\n",
       "      <th>1</th>\n",
       "      <td>241032</td>\n",
       "      <td>2016-01-05</td>\n",
       "      <td>True</td>\n",
       "      <td>85.0</td>\n",
       "    </tr>\n",
       "    <tr>\n",
       "      <th>2</th>\n",
       "      <td>241032</td>\n",
       "      <td>2016-01-06</td>\n",
       "      <td>False</td>\n",
       "      <td>-1.0</td>\n",
       "    </tr>\n",
       "    <tr>\n",
       "      <th>3</th>\n",
       "      <td>241032</td>\n",
       "      <td>2016-01-07</td>\n",
       "      <td>False</td>\n",
       "      <td>-1.0</td>\n",
       "    </tr>\n",
       "    <tr>\n",
       "      <th>4</th>\n",
       "      <td>241032</td>\n",
       "      <td>2016-01-08</td>\n",
       "      <td>False</td>\n",
       "      <td>-1.0</td>\n",
       "    </tr>\n",
       "  </tbody>\n",
       "</table>\n",
       "</div>"
      ],
      "text/plain": [
       "   listing_id       date  available  price\n",
       "0      241032 2016-01-04       True   85.0\n",
       "1      241032 2016-01-05       True   85.0\n",
       "2      241032 2016-01-06      False   -1.0\n",
       "3      241032 2016-01-07      False   -1.0\n",
       "4      241032 2016-01-08      False   -1.0"
      ]
     },
     "execution_count": 23,
     "metadata": {},
     "output_type": "execute_result"
    }
   ],
   "source": [
    "# Function to clean and preprocess the calendar data\n",
    "def preprocess_calendar_data(df):\n",
    "    \"\"\"\n",
    "    Preprocesses the given calendar DataFrame by performing the following operations:\n",
    "    1. Removes dollar signs and commas from the 'price' column and converts it to float.\n",
    "    2. Converts the 'date' column to a datetime format.\n",
    "    3. Converts the 'available' column to a boolean format: \n",
    "       True for available ('t') and False for not available ('f').\n",
    "\n",
    "    Parameters:\n",
    "    -----------\n",
    "    df : pandas.DataFrame\n",
    "        The input calendar DataFrame with columns 'price', 'date', and 'available'.\n",
    "\n",
    "    Returns:\n",
    "    --------\n",
    "    pandas.DataFrame\n",
    "        The preprocessed calendar DataFrame.\n",
    "    \"\"\"\n",
    "    # Removing the dollar sign and commas from the price column\n",
    "    df['price'] = (\n",
    "        df['price']\n",
    "        .replace('[\\$,]', '', regex=True)\n",
    "        .astype(float)\n",
    "    )\n",
    "\n",
    "    # Converting the date column to a datetime format\n",
    "    df['date'] = pd.to_datetime(df['date'])\n",
    "\n",
    "    # Converting the available column to a boolean format\n",
    "    # (True for available, False for not available)\n",
    "    df['available'] = df['available'] == 't'\n",
    "\n",
    "    return df\n",
    "\n",
    "\n",
    "# Applying the preprocessing function to the calendar DataFrame\n",
    "calendar_df_cleaned = preprocess_calendar_data(calendar_df.copy())\n",
    "\n",
    "# Displaying the first few rows of the cleaned DataFrame\n",
    "calendar_df_cleaned.head()\n"
   ]
  },
  {
   "cell_type": "markdown",
   "metadata": {},
   "source": [
    "### Business Question 1: Peak Seasons and Price Fluctuations\n",
    "\n",
    "#### Peak Booking Seasons\n",
    "\n",
    "We'll start by analyzing the booking patterns to identify peak seasons.\n"
   ]
  },
  {
   "cell_type": "code",
   "execution_count": 24,
   "metadata": {},
   "outputs": [
    {
     "data": {
      "image/png": "[encoded data removed]",
      "text/plain": [
       "<Figure size 1200x600 with 1 Axes>"
      ]
     },
     "metadata": {},
     "output_type": "display_data"
    }
   ],
   "source": [
    "def plot_unavailable_listings_by_month(calendar_df):\n",
    "    \"\"\"\n",
    "    Plot the number of unavailable listings by month from a given DataFrame.\n",
    "\n",
    "    Parameters:\n",
    "    - calendar_df (pd.DataFrame): The input dataframe which must contain columns \n",
    "                                  'date' (of datetime type) and 'available' (boolean type).\n",
    "\n",
    "    Returns:\n",
    "    - None: The function directly plots the graph without returning any value.\n",
    "    \"\"\"\n",
    "    \n",
    "    # Extracting the month from the date\n",
    "    calendar_df['month'] = calendar_df['date'].dt.month\n",
    "\n",
    "    # Grouping by month and counting the number of unavailable listings\n",
    "    unavailable_by_month = calendar_df[~calendar_df['available']].groupby('month').size().reset_index(name='count')\n",
    "\n",
    "    # Plotting the unavailable listings by month\n",
    "    plt.figure(figsize=(12, 6))\n",
    "    sns.barplot(x='month', y='count', data=unavailable_by_month, color='skyblue')\n",
    "    plt.title('Number of Unavailable Listings by Month')\n",
    "    plt.xlabel('Month')\n",
    "    plt.ylabel('Count')\n",
    "    plt.xticks(ticks=range(12), labels=['Jan', 'Feb', 'Mar', 'Apr', 'May', 'Jun', 'Jul', 'Aug', 'Sep', 'Oct', 'Nov', 'Dec'])\n",
    "    plt.show()\n",
    "\n",
    "plot_unavailable_listings_by_month(calendar_df_cleaned)"
   ]
  },
  {
   "cell_type": "markdown",
   "metadata": {},
   "source": [
    "#### Price Trends\n",
    "\n",
    "Next, we'll explore how prices fluctuate throughout the year.\n"
   ]
  },
  {
   "cell_type": "code",
   "execution_count": 25,
   "metadata": {},
   "outputs": [
    {
     "data": {
      "image/png": "[encoded data removed]",
      "text/plain": [
       "<Figure size 1200x600 with 1 Axes>"
      ]
     },
     "metadata": {},
     "output_type": "display_data"
    }
   ],
   "source": [
    "def plot_average_price_by_month(df):\n",
    "    \"\"\"\n",
    "    Plots the average price by month for available listings.\n",
    "\n",
    "    Parameters:\n",
    "    - df: DataFrame containing the calendar data with columns 'date', 'available', and 'price'.\n",
    "\n",
    "    Returns:\n",
    "    - A line plot showing the average price by month.\n",
    "    \"\"\"\n",
    "\n",
    "    # Extracting the month from the 'date' column and adding it as a new column\n",
    "    df['month'] = pd.to_datetime(df['date']).dt.month\n",
    "    \n",
    "    # Grouping by month and calculating the average price for available listings\n",
    "    average_price_by_month = df[df['available'] == True].groupby('month')['price'].mean().reset_index()\n",
    "\n",
    "    # Plotting the average price by month\n",
    "    plt.figure(figsize=(12, 6))\n",
    "    sns.lineplot(x='month', y='price', data=average_price_by_month, marker='o')\n",
    "    plt.title('Average Price by Month')\n",
    "    plt.xlabel('Month')\n",
    "    plt.ylabel('Average Price (in $)')\n",
    "    plt.xticks(ticks=range(1, 13), labels=['Jan', 'Feb', 'Mar', 'Apr', 'May', 'Jun', 'Jul', 'Aug', 'Sep', 'Oct', 'Nov', 'Dec'])\n",
    "    plt.grid(True, linestyle='--')\n",
    "    plt.show()\n",
    "\n",
    "# Implement the function\n",
    "plot_average_price_by_month(calendar_df_cleaned)"
   ]
  },
  {
   "cell_type": "markdown",
   "metadata": {},
   "source": [
    "#### Insights\n",
    "\n",
    "- **For Hosts:** Tailor pricing strategies to seasonal demand.\n",
    "- **For Guests:** Plan bookings during off-peak seasons to find lower prices.\n"
   ]
  },
  {
   "cell_type": "markdown",
   "metadata": {},
   "source": [
    "### Business Question 2: Influencing Factors for Ratings\n",
    "\n",
    "#### Data Preprocessing\n",
    "\n",
    "We'll start by selecting relevant features and preprocessing the data to understand the key factors influencing ratings.\n"
   ]
  },
  {
   "cell_type": "code",
   "execution_count": 26,
   "metadata": {},
   "outputs": [
    {
     "data": {
      "text/html": [
       "<div>\n",
       "<style scoped>\n",
       "    .dataframe tbody tr th:only-of-type {\n",
       "        vertical-align: middle;\n",
       "    }\n",
       "\n",
       "    .dataframe tbody tr th {\n",
       "        vertical-align: top;\n",
       "    }\n",
       "\n",
       "    .dataframe thead th {\n",
       "        text-align: right;\n",
       "    }\n",
       "</style>\n",
       "<table border=\"1\" class=\"dataframe\">\n",
       "  <thead>\n",
       "    <tr style=\"text-align: right;\">\n",
       "      <th></th>\n",
       "      <th>host_response_time</th>\n",
       "      <th>host_response_rate</th>\n",
       "      <th>host_is_superhost</th>\n",
       "      <th>property_type</th>\n",
       "      <th>room_type</th>\n",
       "      <th>accommodates</th>\n",
       "      <th>bathrooms</th>\n",
       "      <th>bedrooms</th>\n",
       "      <th>beds</th>\n",
       "      <th>price</th>\n",
       "      <th>number_of_reviews</th>\n",
       "      <th>review_scores_rating</th>\n",
       "    </tr>\n",
       "  </thead>\n",
       "  <tbody>\n",
       "    <tr>\n",
       "      <th>0</th>\n",
       "      <td>within a few hours</td>\n",
       "      <td>96.0</td>\n",
       "      <td>False</td>\n",
       "      <td>Apartment</td>\n",
       "      <td>Entire home/apt</td>\n",
       "      <td>4</td>\n",
       "      <td>1.0</td>\n",
       "      <td>1.0</td>\n",
       "      <td>1.0</td>\n",
       "      <td>85.0</td>\n",
       "      <td>207</td>\n",
       "      <td>95.0</td>\n",
       "    </tr>\n",
       "    <tr>\n",
       "      <th>1</th>\n",
       "      <td>within an hour</td>\n",
       "      <td>98.0</td>\n",
       "      <td>True</td>\n",
       "      <td>Apartment</td>\n",
       "      <td>Entire home/apt</td>\n",
       "      <td>4</td>\n",
       "      <td>1.0</td>\n",
       "      <td>1.0</td>\n",
       "      <td>1.0</td>\n",
       "      <td>150.0</td>\n",
       "      <td>43</td>\n",
       "      <td>96.0</td>\n",
       "    </tr>\n",
       "    <tr>\n",
       "      <th>2</th>\n",
       "      <td>within a few hours</td>\n",
       "      <td>67.0</td>\n",
       "      <td>False</td>\n",
       "      <td>House</td>\n",
       "      <td>Entire home/apt</td>\n",
       "      <td>11</td>\n",
       "      <td>4.5</td>\n",
       "      <td>5.0</td>\n",
       "      <td>7.0</td>\n",
       "      <td>975.0</td>\n",
       "      <td>20</td>\n",
       "      <td>97.0</td>\n",
       "    </tr>\n",
       "    <tr>\n",
       "      <th>3</th>\n",
       "      <td>Unknown</td>\n",
       "      <td>-1.0</td>\n",
       "      <td>False</td>\n",
       "      <td>Apartment</td>\n",
       "      <td>Entire home/apt</td>\n",
       "      <td>3</td>\n",
       "      <td>1.0</td>\n",
       "      <td>0.0</td>\n",
       "      <td>2.0</td>\n",
       "      <td>100.0</td>\n",
       "      <td>0</td>\n",
       "      <td>0.0</td>\n",
       "    </tr>\n",
       "    <tr>\n",
       "      <th>4</th>\n",
       "      <td>within an hour</td>\n",
       "      <td>100.0</td>\n",
       "      <td>False</td>\n",
       "      <td>House</td>\n",
       "      <td>Entire home/apt</td>\n",
       "      <td>6</td>\n",
       "      <td>2.0</td>\n",
       "      <td>3.0</td>\n",
       "      <td>3.0</td>\n",
       "      <td>450.0</td>\n",
       "      <td>38</td>\n",
       "      <td>92.0</td>\n",
       "    </tr>\n",
       "  </tbody>\n",
       "</table>\n",
       "</div>"
      ],
      "text/plain": [
       "   host_response_time  host_response_rate  host_is_superhost property_type  \\\n",
       "0  within a few hours                96.0              False     Apartment   \n",
       "1      within an hour                98.0               True     Apartment   \n",
       "2  within a few hours                67.0              False         House   \n",
       "3             Unknown                -1.0              False     Apartment   \n",
       "4      within an hour               100.0              False         House   \n",
       "\n",
       "         room_type  accommodates  bathrooms  bedrooms  beds  price  \\\n",
       "0  Entire home/apt             4        1.0       1.0   1.0   85.0   \n",
       "1  Entire home/apt             4        1.0       1.0   1.0  150.0   \n",
       "2  Entire home/apt            11        4.5       5.0   7.0  975.0   \n",
       "3  Entire home/apt             3        1.0       0.0   2.0  100.0   \n",
       "4  Entire home/apt             6        2.0       3.0   3.0  450.0   \n",
       "\n",
       "   number_of_reviews  review_scores_rating  \n",
       "0                207                  95.0  \n",
       "1                 43                  96.0  \n",
       "2                 20                  97.0  \n",
       "3                  0                   0.0  \n",
       "4                 38                  92.0  "
      ]
     },
     "execution_count": 26,
     "metadata": {},
     "output_type": "execute_result"
    }
   ],
   "source": [
    "# Function to clean and preprocess the listings data\n",
    "def preprocess_listings_data(df):\n",
    "    \"\"\"\n",
    "    Cleans and preprocesses the listings data by selecting relevant columns, \n",
    "    and transforming specific columns to appropriate data types.\n",
    "    \n",
    "    Parameters:\n",
    "    - df (pd.DataFrame): The raw listings dataframe to be preprocessed.\n",
    "    \n",
    "    Returns:\n",
    "    - pd.DataFrame: The preprocessed listings dataframe with selected columns and transformed data types.\n",
    "    \"\"\"\n",
    "    # Selecting a subset of columns that are likely to influence the rating of a listing\n",
    "    columns_to_keep = ['host_response_time', 'host_response_rate', 'host_is_superhost',\n",
    "                       'property_type', 'room_type', 'accommodates', 'bathrooms',\n",
    "                       'bedrooms', 'beds', 'price', 'number_of_reviews', 'review_scores_rating']\n",
    "    df = df[columns_to_keep]\n",
    "\n",
    "    # Removing the percentage sign from the host_response_rate column and converting it to a float\n",
    "    df['host_response_rate'] = df['host_response_rate'].replace('[\\%,]', '', regex=True)\n",
    "    df['host_response_rate'] = df['host_response_rate'].replace('Unknown', np.nan).astype(float)\n",
    "    df['host_response_rate'] = df['host_response_rate'].fillna(-1)\n",
    "    \n",
    "    # Removing the dollar sign and commas from the price column and converting it to a float\n",
    "    df['price'] = df['price'].replace('[\\$,]', '', regex=True)\n",
    "    df['price'] = df['price'].replace('Unknown', np.nan).astype(float)\n",
    "    df['price'] = df['price'].fillna(-1)\n",
    "\n",
    "    # Converting the host_is_superhost column to a boolean format\n",
    "    df['host_is_superhost'] = df['host_is_superhost'] == 't'\n",
    "\n",
    "    return df\n",
    "\n",
    "# Applying the preprocessing function to the listings DataFrame\n",
    "listings_df_cleaned = preprocess_listings_data(listings_df.copy())\n",
    "\n",
    "# Displaying the first few rows of the cleaned DataFrame\n",
    "listings_df_cleaned.head()\n"
   ]
  },
  {
   "cell_type": "markdown",
   "metadata": {},
   "source": [
    "#### Correlation Analysis\n",
    "\n",
    "We'll now analyze the correlations between different features and review scores to identify the key factors influencing ratings.\n"
   ]
  },
  {
   "cell_type": "code",
   "execution_count": 27,
   "metadata": {},
   "outputs": [
    {
     "data": {
      "image/png": "[encoded data removed]",
      "text/plain": [
       "<Figure size 1000x600 with 1 Axes>"
      ]
     },
     "metadata": {},
     "output_type": "display_data"
    }
   ],
   "source": [
    "def plot_correlation_with_reviews(df):\n",
    "    \"\"\"\n",
    "    Plots the correlations of all numerical columns with the 'review_scores_rating' column.\n",
    "    \n",
    "    Parameters:\n",
    "    - df (pd.DataFrame): The dataframe containing listings data and the 'review_scores_rating' column.\n",
    "    \n",
    "    Returns:\n",
    "    - A bar plot visualizing the correlation of all numerical columns with 'review_scores_rating'.\n",
    "    \"\"\"\n",
    "    \n",
    "    # Calculating the correlation with the review_scores_rating column\n",
    "    correlations = df.corr()['review_scores_rating'].sort_values()\n",
    "\n",
    "    # Removing the review_scores_rating correlation with itself\n",
    "    correlations = correlations.drop('review_scores_rating')\n",
    "\n",
    "    # Plotting the correlations\n",
    "    plt.figure(figsize=(10, 6))\n",
    "    correlations.plot(kind='bar', color='skyblue')\n",
    "    plt.title('Correlation with Review Scores Rating')\n",
    "    plt.ylabel('Correlation')\n",
    "    plt.grid(True, linestyle='--')\n",
    "    plt.show()\n",
    "\n",
    "# Implement function\n",
    "plot_correlation_with_reviews(listings_df_cleaned)\n"
   ]
  },
  {
   "cell_type": "markdown",
   "metadata": {},
   "source": [
    "#### Insights\n",
    "\n",
    "- **Number of Reviews:** More reviews might slightly dampen ratings.\n",
    "- **Superhost Status:** Higher ratings often accompany superhost status.\n",
    "- **Property Size and Capacity:** Bigger properties generally fare better.\n",
    "- **Host Responsiveness:** Quick replies please guests.\n",
    "- **Price:** Higher prices may reflect better experiences.\n"
   ]
  },
  {
   "cell_type": "markdown",
   "metadata": {},
   "source": [
    "### Business Question 3: Review Trends Across Property Types and Locations"
   ]
  },
  {
   "cell_type": "markdown",
   "metadata": {},
   "source": [
    "#### Data Processing"
   ]
  },
  {
   "cell_type": "code",
   "execution_count": 28,
   "metadata": {},
   "outputs": [
    {
     "data": {
      "text/html": [
       "<div>\n",
       "<style scoped>\n",
       "    .dataframe tbody tr th:only-of-type {\n",
       "        vertical-align: middle;\n",
       "    }\n",
       "\n",
       "    .dataframe tbody tr th {\n",
       "        vertical-align: top;\n",
       "    }\n",
       "\n",
       "    .dataframe thead th {\n",
       "        text-align: right;\n",
       "    }\n",
       "</style>\n",
       "<table border=\"1\" class=\"dataframe\">\n",
       "  <thead>\n",
       "    <tr style=\"text-align: right;\">\n",
       "      <th></th>\n",
       "      <th>listing_id</th>\n",
       "      <th>id</th>\n",
       "      <th>date</th>\n",
       "      <th>reviewer_id</th>\n",
       "      <th>reviewer_name</th>\n",
       "      <th>comments</th>\n",
       "      <th>property_type</th>\n",
       "      <th>neighbourhood_cleansed</th>\n",
       "      <th>latitude</th>\n",
       "      <th>longitude</th>\n",
       "    </tr>\n",
       "  </thead>\n",
       "  <tbody>\n",
       "    <tr>\n",
       "      <th>0</th>\n",
       "      <td>7202016</td>\n",
       "      <td>38917982</td>\n",
       "      <td>2015-07-19</td>\n",
       "      <td>28943674</td>\n",
       "      <td>Bianca</td>\n",
       "      <td>Cute and cozy place. Perfect location to every...</td>\n",
       "      <td>Apartment</td>\n",
       "      <td>Lower Queen Anne</td>\n",
       "      <td>47.62621</td>\n",
       "      <td>-122.360147</td>\n",
       "    </tr>\n",
       "    <tr>\n",
       "      <th>1</th>\n",
       "      <td>7202016</td>\n",
       "      <td>39087409</td>\n",
       "      <td>2015-07-20</td>\n",
       "      <td>32440555</td>\n",
       "      <td>Frank</td>\n",
       "      <td>Kelly has a great room in a very central locat...</td>\n",
       "      <td>Apartment</td>\n",
       "      <td>Lower Queen Anne</td>\n",
       "      <td>47.62621</td>\n",
       "      <td>-122.360147</td>\n",
       "    </tr>\n",
       "    <tr>\n",
       "      <th>2</th>\n",
       "      <td>7202016</td>\n",
       "      <td>39820030</td>\n",
       "      <td>2015-07-26</td>\n",
       "      <td>37722850</td>\n",
       "      <td>Ian</td>\n",
       "      <td>Very spacious apartment, and in a great neighb...</td>\n",
       "      <td>Apartment</td>\n",
       "      <td>Lower Queen Anne</td>\n",
       "      <td>47.62621</td>\n",
       "      <td>-122.360147</td>\n",
       "    </tr>\n",
       "    <tr>\n",
       "      <th>3</th>\n",
       "      <td>7202016</td>\n",
       "      <td>40813543</td>\n",
       "      <td>2015-08-02</td>\n",
       "      <td>33671805</td>\n",
       "      <td>George</td>\n",
       "      <td>Close to Seattle Center and all it has to offe...</td>\n",
       "      <td>Apartment</td>\n",
       "      <td>Lower Queen Anne</td>\n",
       "      <td>47.62621</td>\n",
       "      <td>-122.360147</td>\n",
       "    </tr>\n",
       "    <tr>\n",
       "      <th>4</th>\n",
       "      <td>7202016</td>\n",
       "      <td>41986501</td>\n",
       "      <td>2015-08-10</td>\n",
       "      <td>34959538</td>\n",
       "      <td>Ming</td>\n",
       "      <td>Kelly was a great host and very accommodating ...</td>\n",
       "      <td>Apartment</td>\n",
       "      <td>Lower Queen Anne</td>\n",
       "      <td>47.62621</td>\n",
       "      <td>-122.360147</td>\n",
       "    </tr>\n",
       "  </tbody>\n",
       "</table>\n",
       "</div>"
      ],
      "text/plain": [
       "   listing_id        id        date  reviewer_id reviewer_name  \\\n",
       "0     7202016  38917982  2015-07-19     28943674        Bianca   \n",
       "1     7202016  39087409  2015-07-20     32440555         Frank   \n",
       "2     7202016  39820030  2015-07-26     37722850           Ian   \n",
       "3     7202016  40813543  2015-08-02     33671805        George   \n",
       "4     7202016  41986501  2015-08-10     34959538          Ming   \n",
       "\n",
       "                                            comments property_type  \\\n",
       "0  Cute and cozy place. Perfect location to every...     Apartment   \n",
       "1  Kelly has a great room in a very central locat...     Apartment   \n",
       "2  Very spacious apartment, and in a great neighb...     Apartment   \n",
       "3  Close to Seattle Center and all it has to offe...     Apartment   \n",
       "4  Kelly was a great host and very accommodating ...     Apartment   \n",
       "\n",
       "  neighbourhood_cleansed  latitude   longitude  \n",
       "0       Lower Queen Anne  47.62621 -122.360147  \n",
       "1       Lower Queen Anne  47.62621 -122.360147  \n",
       "2       Lower Queen Anne  47.62621 -122.360147  \n",
       "3       Lower Queen Anne  47.62621 -122.360147  \n",
       "4       Lower Queen Anne  47.62621 -122.360147  "
      ]
     },
     "execution_count": 28,
     "metadata": {},
     "output_type": "execute_result"
    }
   ],
   "source": [
    "def merge_reviews_with_listings(reviews, listings):\n",
    "    \"\"\"\n",
    "    Merges reviews data with listings data based on the 'listing_id' column.\n",
    "    \n",
    "    Parameters:\n",
    "    - reviews (pd.DataFrame): The reviews dataframe containing review data and a 'listing_id' column.\n",
    "    - listings (pd.DataFrame): The listings dataframe containing listing data and an 'id' column.\n",
    "    \n",
    "    Returns:\n",
    "    - pd.DataFrame: A merged dataframe of reviews and listings based on the 'listing_id'.\n",
    "    \"\"\"\n",
    "    \n",
    "    # Selecting relevant columns from the listings DataFrame for the merge\n",
    "    listings_columns_for_merge = ['id', 'property_type', 'neighbourhood_cleansed', 'latitude', 'longitude']\n",
    "    listings = listings[listings_columns_for_merge]\n",
    "\n",
    "    # Renaming the 'id' column to 'listing_id' in the listings DataFrame\n",
    "    listings = listings.rename(columns={'id': 'listing_id'})\n",
    "\n",
    "    # Merging the reviews and selected listings data on the 'listing_id' column\n",
    "    merged_data = pd.merge(reviews, listings, on='listing_id', how='left')\n",
    "    \n",
    "    return merged_data\n",
    "\n",
    "# Implement\n",
    "merged_reviews_data = merge_reviews_with_listings(reviews_df, listings_df)\n",
    "merged_reviews_data.head()\n"
   ]
  },
  {
   "cell_type": "markdown",
   "metadata": {},
   "source": [
    "#### Review Frequency Across Property Types\n",
    "\n",
    "We'll explore how different property types receive reviews to understand customer preferences.\n"
   ]
  },
  {
   "cell_type": "code",
   "execution_count": 29,
   "metadata": {},
   "outputs": [
    {
     "data": {
      "image/png": "[encoded data removed]",
      "text/plain": [
       "<Figure size 1200x600 with 1 Axes>"
      ]
     },
     "metadata": {},
     "output_type": "display_data"
    }
   ],
   "source": [
    "def plot_reviews_by_property_type(merged_data):\n",
    "    \"\"\"\n",
    "    Plots the number of reviews for each property type.\n",
    "    \n",
    "    Parameters:\n",
    "    - merged_data (pd.DataFrame): The dataframe containing merged reviews and listings data \n",
    "                                  with a 'property_type' column.\n",
    "    \n",
    "    Returns:\n",
    "    - A bar plot visualizing the number of reviews for each property type.\n",
    "    \"\"\"\n",
    "    \n",
    "    # Counting the number of reviews by property type\n",
    "    reviews_by_property_type = merged_data['property_type'].value_counts().reset_index()\n",
    "    reviews_by_property_type.columns = ['property_type', 'count']\n",
    "\n",
    "    # Plotting the number of reviews by property type\n",
    "    plt.figure(figsize=(12, 6))\n",
    "    sns.barplot(x='count', y='property_type', data=reviews_by_property_type, color='skyblue')\n",
    "    plt.title('Number of Reviews by Property Type')\n",
    "    plt.xlabel('Number of Reviews')\n",
    "    plt.ylabel('Property Type')\n",
    "    plt.show()\n",
    "\n",
    "# Implement Function\n",
    "plot_reviews_by_property_type(merged_reviews_data)\n"
   ]
  },
  {
   "cell_type": "markdown",
   "metadata": {},
   "source": [
    "#### Average Ratings Across Neighborhoods\n",
    "\n",
    "Next, we'll investigate how different neighborhoods or areas are rated by guests.\n"
   ]
  },
  {
   "cell_type": "code",
   "execution_count": 30,
   "metadata": {},
   "outputs": [
    {
     "data": {
      "image/png": "[encoded data removed]",
      "text/plain": [
       "<Figure size 1200x600 with 1 Axes>"
      ]
     },
     "metadata": {},
     "output_type": "display_data"
    }
   ],
   "source": [
    "def plot_top_neighborhoods_by_review_score(df, top_n=10):\n",
    "    \"\"\"\n",
    "    Plots the top neighborhoods based on their average review scores.\n",
    "    \n",
    "    Parameters:\n",
    "    - df (pd.DataFrame): The listings dataframe containing 'neighbourhood_cleansed' and 'review_scores_rating' columns.\n",
    "    - top_n (int, optional): The number of top neighborhoods to display. Default is 10.\n",
    "    \n",
    "    Returns:\n",
    "    - A bar plot visualizing the average review scores for the top neighborhoods.\n",
    "    \"\"\"\n",
    "    \n",
    "    # Selecting relevant columns from the listings DataFrame for neighborhood analysis\n",
    "    neighborhood_ratings = df[['neighbourhood_cleansed', 'review_scores_rating']]\n",
    "\n",
    "    # Calculating the average review scores by neighborhood\n",
    "    average_ratings_by_neighborhood = neighborhood_ratings.groupby('neighbourhood_cleansed')['review_scores_rating'].mean().reset_index()\n",
    "\n",
    "    # Sorting by average rating\n",
    "    average_ratings_by_neighborhood = average_ratings_by_neighborhood.sort_values(by='review_scores_rating', ascending=False)\n",
    "\n",
    "    # Plotting the average review scores by neighborhood (Top 10 neighborhoods)\n",
    "    plt.figure(figsize=(12, 6))\n",
    "    sns.barplot(x='review_scores_rating', y='neighbourhood_cleansed', data=average_ratings_by_neighborhood.head(top_n), color='skyblue')\n",
    "    plt.title(f'Average Review Scores by Neighborhood (Top {top_n})')\n",
    "    plt.xlabel('Average Review Score')\n",
    "    plt.ylabel('Neighborhood')\n",
    "    plt.show()\n",
    "\n",
    "# Implement function\n",
    "plot_top_neighborhoods_by_review_score(listings_df)\n"
   ]
  },
  {
   "cell_type": "markdown",
   "metadata": {},
   "source": [
    "#### Seasonal Trends in Reviews\n",
    "\n",
    "Finally, we'll examine how review patterns change throughout the year.\n"
   ]
  },
  {
   "cell_type": "code",
   "execution_count": 31,
   "metadata": {},
   "outputs": [
    {
     "data": {
      "image/png": "[encoded data removed]",
      "text/plain": [
       "<Figure size 1200x600 with 1 Axes>"
      ]
     },
     "metadata": {},
     "output_type": "display_data"
    }
   ],
   "source": [
    "def plot_reviews_by_month(df):\n",
    "    \"\"\"\n",
    "    Plots the number of reviews by month based on the 'date' column in the provided dataframe.\n",
    "    \n",
    "    Parameters:\n",
    "    - df (pd.DataFrame): The dataframe containing a 'date' column with review dates.\n",
    "    \n",
    "    Returns:\n",
    "    - None: Displays a bar plot showing the number of reviews for each month.\n",
    "    \"\"\"\n",
    "    \n",
    "    # Converting the date column to a datetime format\n",
    "    df['date'] = pd.to_datetime(df['date'])\n",
    "\n",
    "    # Extracting the month from the date\n",
    "    df['month'] = df['date'].dt.month\n",
    "\n",
    "    # Counting the number of reviews by month\n",
    "    reviews_by_month = df['month'].value_counts().sort_index().reset_index()\n",
    "    reviews_by_month.columns = ['month', 'count']\n",
    "\n",
    "    # Plotting the number of reviews by month\n",
    "    plt.figure(figsize=(12, 6))\n",
    "    sns.barplot(x='month', y='count', data=reviews_by_month, color='skyblue', order=range(1, 13))\n",
    "    plt.title('Number of Reviews by Month')\n",
    "    plt.xlabel('Month')\n",
    "    plt.ylabel('Number of Reviews')\n",
    "    plt.xticks(ticks=range(12), labels=[\n",
    "        'Jan', 'Feb', 'Mar', 'Apr', 'May', 'Jun', \n",
    "        'Jul', 'Aug', 'Sep', 'Oct', 'Nov', 'Dec'\n",
    "    ])\n",
    "    plt.show()\n",
    "\n",
    "# Testing the function (will execute only if data is available)\n",
    "plot_reviews_by_month(merged_reviews_data)\n"
   ]
  },
  {
   "cell_type": "markdown",
   "metadata": {},
   "source": [
    "#### Insights\n",
    "\n",
    "- **For Hosts:**\n",
    "   - **Embrace Popular Choices:** Focus on property types that resonate with guests.\n",
    "   - **Location, Location, Location:** Enhance experiences in top-rated areas.\n",
    "   - **Seasonal Sensitivity:** Cater to seasonal trends.\n",
    "\n",
    "- **For Travelers:**\n",
    "   - **Choose Wisely:** Seek popular property types and highly-rated neighborhoods.\n",
    "   - **Seasonal Adventures:** Align travels with seasonal insights.\n"
   ]
  },
  {
   "cell_type": "markdown",
   "metadata": {},
   "source": [
    "### Conclusion\n",
    "\n",
    "This exploration has provided valuable insights into the dynamics of shared accommodations on platforms like Airbnb. Whether you're a host looking to optimize your listings or a traveler planning your next adventure, these data-driven insights offer a roadmap to delightful experiences. Happy hosting and happy travels!\n"
   ]
  }
 ],
 "metadata": {
  "kernelspec": {
   "display_name": "Python 3",
   "language": "python",
   "name": "python3"
  },
  "language_info": {
   "codemirror_mode": {
    "name": "ipython",
    "version": 3
   },
   "file_extension": ".py",
   "mimetype": "text/x-python",
   "name": "python",
   "nbconvert_exporter": "python",
   "pygments_lexer": "ipython3",
   "version": "3.10.9"
  },
  "orig_nbformat": 4
 },
 "nbformat": 4,
 "nbformat_minor": 2
}
